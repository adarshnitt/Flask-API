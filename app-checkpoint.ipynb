{
 "cells": [
  {
   "cell_type": "code",
   "execution_count": 2,
   "id": "e3dd8f29",
   "metadata": {},
   "outputs": [
    {
     "name": "stdout",
     "output_type": "stream",
     "text": [
      " * Serving Flask app \"__main__\" (lazy loading)\n",
      " * Environment: production\n",
      "   WARNING: This is a development server. Do not use it in a production deployment.\n",
      "   Use a production WSGI server instead.\n",
      " * Debug mode: off\n"
     ]
    },
    {
     "name": "stderr",
     "output_type": "stream",
     "text": [
      " * Running on http://127.0.0.1:5000/ (Press CTRL+C to quit)\n",
      "127.0.0.1 - - [07/Apr/2021 23:39:53] \"\u001b[37mGET / HTTP/1.1\u001b[0m\" 200 -\n"
     ]
    }
   ],
   "source": [
    "from flask import Flask,render_template,redirect,url_for                        # in python web development acn be done via flask while in flask it can be done via java\n",
    "app=Flask(__name__)\n",
    "@app.route(\"/\")\n",
    "@app.route(\"/home\")\n",
    "def home():\n",
    "    return render_template(\"home.html\")\n",
    "@app.route(\"/login\")\n",
    "def login():\n",
    "       return  render_template (\"login.html\") \n",
    "@app.route(\"/logout\")\n",
    "def logout():\n",
    "    return redirect(url_for(\"home\"))\n",
    "if __name__==\"__main__\":\n",
    "    app.run()\n",
    "    "
   ]
  },
  {
   "cell_type": "markdown",
   "id": "2eaf1c89",
   "metadata": {},
   "source": [
    "<h1>flask=========</h1> is web application framework written in python.flask is used for web application development.\n",
    "<br>II  \" is used to stop that specigic kernal not whole notebook\n",
    "<h2>render template</h2> :  its work is to load script of html file which is in same directory.\n",
    "<h2>@app.route(\"/\")</h2> when running script <h5> #__name__</h5>is <h5># __main__</h5>, go to home{/} directory\n",
    "<h2> @app.route(\"/func_i\")</h2> it  wil route from home ---> func_i {def func_i()}\n",
    "<h2>rediect</h2> redict the currect pointer to where is directed \n",
    "<h2> url_for </h2> redirect the curreect pointer to the \" redirect(url_for(\"func_old))  \"\n",
    "<h2># image src =\"{{url_for(\"static\",filename='img1.jfif')}}\" </h2>\n",
    "\n",
    "\n",
    "note:  all the templates must be saves under :\"templates\" directory,keep mind of \"S\" at the end of templateS.\n"
   ]
  },
  {
   "cell_type": "code",
   "execution_count": null,
   "id": "7d8160b0",
   "metadata": {},
   "outputs": [],
   "source": []
  }
 ],
 "metadata": {
  "kernelspec": {
   "display_name": "Python 3",
   "language": "python",
   "name": "python3"
  },
  "language_info": {
   "codemirror_mode": {
    "name": "ipython",
    "version": 3
   },
   "file_extension": ".py",
   "mimetype": "text/x-python",
   "name": "python",
   "nbconvert_exporter": "python",
   "pygments_lexer": "ipython3",
   "version": "3.8.8"
  }
 },
 "nbformat": 4,
 "nbformat_minor": 5
}
